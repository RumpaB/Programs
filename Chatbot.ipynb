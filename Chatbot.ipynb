{
  "cells": [
    {
      "cell_type": "markdown",
      "metadata": {
        "id": "view-in-github",
        "colab_type": "text"
      },
      "source": [
        "<a href=\"https://colab.research.google.com/github/RumpaB/Programs/blob/main/Chatbot.ipynb\" target=\"_parent\"><img src=\"https://colab.research.google.com/assets/colab-badge.svg\" alt=\"Open In Colab\"/></a>"
      ]
    },
    {
      "cell_type": "code",
      "execution_count": null,
      "metadata": {
        "colab": {
          "background_save": true,
          "base_uri": "https://localhost:8080/"
        },
        "id": "oLKwIwR0QfOF",
        "outputId": "0c56d55e-07dc-4018-b99b-2366994a97cd"
      },
      "outputs": [
        {
          "name": "stdout",
          "output_type": "stream",
          "text": [
            "Chatbot: Hi,My name is Chuchu\n",
            "Chuchu: Nice to meet you, p! Type 'bye' to exit.\n",
            "I am so happy for you.\n",
            "Chuchu: Sorry, I don't understand that.\n",
            "Chuchu: Aww, stop it! You're making my circuits blush.\n"
          ]
        }
      ],
      "source": [
        "from textblob import TextBlob\n",
        "from datetime import datetime\n",
        "import random\n",
        "jokes = [\n",
        "        \"What do you call advice from a cow? Beef Tips.\",\n",
        "        \"Why are pediatricians always so grumpy? They have little patients.\",\n",
        "        \"Why did the scarecrow win an award? Because he was outstanding in his field.\"\n",
        "    ]\n",
        "\n",
        "responses = {\n",
        "        \"hi\": \"Hello {name}! How can I help you today?\",\n",
        "        \"bye\": \"Goodbye {name}! Have a nice day!\",\n",
        "        \"how are you?\": \"I'm good, {name}, thanks for asking!\",\n",
        "        \"what is my name?\": \"Your name is {name}.\",\n",
        "        \"are you human?\" : \"I'm an AI-powered chatbot, here to answer your questions.\",\n",
        "        \"what can you do?\" : \"I can answer questions, provide information, and help with basic tasks. Just ask away!\",\n",
        "        \"how do chatbots work?\" : \"Chatbots use artificial intelligence (AI) and predefined rules to understand and respond to messages. Some use natural language processing (NLP) to have more human-like conversations.\",\n",
        "        \"do you have emotions?\" : \"Nope, but I can try to sound happy or excited if that helps!\",\n",
        "        \"what’s the weather like today?\" : \"I can’t fetch real-time weather updates yet, but you can check a weather website or ask a smart assistant.\",\n",
        "        \"can you set an alarm?\" : \"I can’t set alarms, but you can use your phone’s clock app for that.\",\n",
        "        \"do you love me?\" :\"Aww, that's sweet! I appreciate you!\",\n",
        "        \"will you marry me?\" : \"I'm flattered! But I'm all about digital companionship, not romance.\",\n",
        "        \"do you like people?\" : \"Of course! People are fascinating, and I love chatting with you.\",\n",
        "        \"does Santa Claus exist?\" : \"If you believe in him, then absolutely!\",\n",
        "        \"you’re cute\" : \"Aww, stop it! You're making my circuits blush.\",\n",
        "        \"you’re handsome\" : \"Aww, stop it! You're making my circuits blush.\",\n",
        "        \"you’re beautiful\" : \"Aww, stop it! You're making my circuits blush.\",\n",
        "        \"do you have a hobby?\" : \"Chatting, learning, and making people smile! What about you?\",\n",
        "        \"you’re smart\" : \"Thank you! I try my best. You’re pretty brilliant yourself!\",\n",
        "        \"you’re intelligent\" : \"Thank you! I try my best. You’re pretty brilliant yourself!\",\n",
        "        \"you’re clever\" : \"Thank you! I try my best. You’re pretty brilliant yourself!\",\n",
        "        \"tell me about your personality\" : \"I’m friendly, curious, and always ready to help! I like keeping conversations fun, informative, and engaging.\",\n",
        "        \"you’re annoying\" : \"If I'm annoying, I apologize! Let me know how I can improve.\",\n",
        "        \"don’t you speak English?\" : \"Yes, I do speak English! How can I assist you?\",\n",
        "        \"how old are you?\" : \"I don’t have an exact age, but I’ve been learning and improving constantly!\",\n",
        "        \"what do you do with my data?\" : \"I respect your privacy! I don’t store personal conversations permanently.\",\n",
        "        \"what is today's date?\" : datetime.now(),\n",
        "        \"can you tell me a joke?\": random.choice(jokes),\n",
        "\n",
        "    }\n",
        "\n",
        "def sentiment_analysis(text):\n",
        "  blob = TextBlob(text)\n",
        "  #print(blob.sentiment.polarity)\n",
        "  if(blob.sentiment.polarity <0):\n",
        "    print(\"I am so sorry that you feel like this.\")\n",
        "  if(blob.sentiment.polarity > 0):\n",
        "    print(\"I am so happy for you.\")\n",
        "  if(blob.sentiment.polarity == 0):\n",
        "    print(\"good to know.\")\n",
        "\n",
        "def chatbot() :\n",
        "    print(\"Chatbot: Hi,My name is Chuchu\")\n",
        "    name = input(\"Chuchu : What is your name? \")\n",
        "    print(f\"Chuchu: Nice to meet you, {name}! Type 'bye' to exit.\")\n",
        "    sentiment = input(f\"Chuchu: {name}, How are you feeling today? \")\n",
        "    sentiment_analysis(sentiment)\n",
        "    user_info = {}\n",
        "    user_info[\"name\"] = name\n",
        "    #print(responses[\"Can you tell me a joke?\"])\n",
        "\n",
        "    while True:\n",
        "        user_Input = input(f\"{name}: \").lower()\n",
        "        #print(\"Chuchu:\", (responses.get(user_Input,\"Sorry, I don't understand that.\")))\n",
        "        response = responses.get(user_Input,\"Sorry, I don't understand that.\")\n",
        "        print(\"Chuchu:\", str(response).format(name=name))\n",
        "        if user_Input == 'bye':\n",
        "            return\n",
        "def main():\n",
        "  chatbot()\n",
        "\n",
        "if __name__ == \"__main__\":\n",
        "  main()"
      ]
    }
  ],
  "metadata": {
    "colab": {
      "provenance": [],
      "authorship_tag": "ABX9TyNfwtAHlW8X/gKUDXWlefA+",
      "include_colab_link": true
    },
    "kernelspec": {
      "display_name": "Python 3",
      "name": "python3"
    },
    "language_info": {
      "name": "python"
    }
  },
  "nbformat": 4,
  "nbformat_minor": 0
}